{
 "cells": [
  {
   "cell_type": "markdown",
   "metadata": {},
   "source": [
    "# Árvores II - Tarefa 2"
   ]
  },
  {
   "cell_type": "markdown",
   "metadata": {},
   "source": [
    "### 1. Carregar as bases\n",
    "\n",
    "Vamos carregar as bases lidas na tarefa passada. Se você salvou essas bases em arquivo texto, basta fazer a leitura com o comando ```pd.read_csv``` das seguintes bases:\n",
    "\n",
    "- X_train\n",
    "- Y_train\n",
    "- X_test\n",
    "- Y_test\n",
    "\n",
    "Não se esqueça de considerar a leitura dos índices dos arquivos no ```read_csv()```!"
   ]
  },
  {
   "cell_type": "code",
   "execution_count": 1,
   "metadata": {},
   "outputs": [],
   "source": [
    "import pandas as pd\n",
    "import seaborn as sns\n",
    "import matplotlib.pyplot as plt\n",
    "import numpy as np\n",
    "from sklearn.tree import DecisionTreeClassifier\n",
    "from sklearn.model_selection import train_test_split\n",
    "from sklearn.metrics import ConfusionMatrixDisplay"
   ]
  },
  {
   "cell_type": "code",
   "execution_count": 2,
   "metadata": {},
   "outputs": [],
   "source": [
    "x_train = pd.read_csv(r'./dados_atividade/base_treino.csv').set_index(['index', 'individuo'])\n",
    "y_train = pd.read_csv(r'./dados/train/y_train.txt')\n",
    "x_test = pd.read_csv(r'./dados_atividade/base_teste.csv').set_index(['index', 'individuo'])\n",
    "y_test = pd.read_csv(r'./dados/test/y_test.txt')"
   ]
  },
  {
   "cell_type": "code",
   "execution_count": 3,
   "metadata": {},
   "outputs": [
    {
     "data": {
      "text/html": [
       "<div>\n",
       "<style scoped>\n",
       "    .dataframe tbody tr th:only-of-type {\n",
       "        vertical-align: middle;\n",
       "    }\n",
       "\n",
       "    .dataframe tbody tr th {\n",
       "        vertical-align: top;\n",
       "    }\n",
       "\n",
       "    .dataframe thead th {\n",
       "        text-align: right;\n",
       "    }\n",
       "</style>\n",
       "<table border=\"1\" class=\"dataframe\">\n",
       "  <thead>\n",
       "    <tr style=\"text-align: right;\">\n",
       "      <th></th>\n",
       "      <th></th>\n",
       "      <th>('tBodyAcc-mean()-X',)</th>\n",
       "      <th>('tBodyAcc-mean()-Y',)</th>\n",
       "      <th>('tBodyAcc-mean()-Z',)</th>\n",
       "      <th>('tBodyAcc-std()-X',)</th>\n",
       "      <th>('tBodyAcc-std()-Y',)</th>\n",
       "      <th>('tBodyAcc-std()-Z',)</th>\n",
       "      <th>('tBodyAcc-mad()-X',)</th>\n",
       "      <th>('tBodyAcc-mad()-Y',)</th>\n",
       "      <th>('tBodyAcc-mad()-Z',)</th>\n",
       "      <th>('tBodyAcc-max()-X',)</th>\n",
       "      <th>...</th>\n",
       "      <th>('fBodyBodyGyroJerkMag-meanFreq()',)</th>\n",
       "      <th>('fBodyBodyGyroJerkMag-skewness()',)</th>\n",
       "      <th>('fBodyBodyGyroJerkMag-kurtosis()',)</th>\n",
       "      <th>('angle(tBodyAccMean,gravity)',)</th>\n",
       "      <th>('angle(tBodyAccJerkMean),gravityMean)',)</th>\n",
       "      <th>('angle(tBodyGyroMean,gravityMean)',)</th>\n",
       "      <th>('angle(tBodyGyroJerkMean,gravityMean)',)</th>\n",
       "      <th>('angle(X,gravityMean)',)</th>\n",
       "      <th>('angle(Y,gravityMean)',)</th>\n",
       "      <th>('angle(Z,gravityMean)',)</th>\n",
       "    </tr>\n",
       "    <tr>\n",
       "      <th>index</th>\n",
       "      <th>individuo</th>\n",
       "      <th></th>\n",
       "      <th></th>\n",
       "      <th></th>\n",
       "      <th></th>\n",
       "      <th></th>\n",
       "      <th></th>\n",
       "      <th></th>\n",
       "      <th></th>\n",
       "      <th></th>\n",
       "      <th></th>\n",
       "      <th></th>\n",
       "      <th></th>\n",
       "      <th></th>\n",
       "      <th></th>\n",
       "      <th></th>\n",
       "      <th></th>\n",
       "      <th></th>\n",
       "      <th></th>\n",
       "      <th></th>\n",
       "      <th></th>\n",
       "      <th></th>\n",
       "    </tr>\n",
       "  </thead>\n",
       "  <tbody>\n",
       "    <tr>\n",
       "      <th>0</th>\n",
       "      <th>2</th>\n",
       "      <td>0.286027</td>\n",
       "      <td>-0.013163</td>\n",
       "      <td>-0.119083</td>\n",
       "      <td>-0.975415</td>\n",
       "      <td>-0.967458</td>\n",
       "      <td>-0.944958</td>\n",
       "      <td>-0.986799</td>\n",
       "      <td>-0.968401</td>\n",
       "      <td>-0.945823</td>\n",
       "      <td>-0.894088</td>\n",
       "      <td>...</td>\n",
       "      <td>-0.401189</td>\n",
       "      <td>-0.121845</td>\n",
       "      <td>-0.594944</td>\n",
       "      <td>-0.083495</td>\n",
       "      <td>0.017500</td>\n",
       "      <td>-0.434375</td>\n",
       "      <td>0.920593</td>\n",
       "      <td>-0.698091</td>\n",
       "      <td>0.281343</td>\n",
       "      <td>-0.083898</td>\n",
       "    </tr>\n",
       "    <tr>\n",
       "      <th>1</th>\n",
       "      <th>2</th>\n",
       "      <td>0.275485</td>\n",
       "      <td>-0.026050</td>\n",
       "      <td>-0.118152</td>\n",
       "      <td>-0.993819</td>\n",
       "      <td>-0.969926</td>\n",
       "      <td>-0.962748</td>\n",
       "      <td>-0.994403</td>\n",
       "      <td>-0.970735</td>\n",
       "      <td>-0.963483</td>\n",
       "      <td>-0.939260</td>\n",
       "      <td>...</td>\n",
       "      <td>0.062891</td>\n",
       "      <td>-0.190422</td>\n",
       "      <td>-0.640736</td>\n",
       "      <td>-0.034956</td>\n",
       "      <td>0.202302</td>\n",
       "      <td>0.064103</td>\n",
       "      <td>0.145068</td>\n",
       "      <td>-0.702771</td>\n",
       "      <td>0.280083</td>\n",
       "      <td>-0.079346</td>\n",
       "    </tr>\n",
       "    <tr>\n",
       "      <th>2</th>\n",
       "      <th>2</th>\n",
       "      <td>0.270298</td>\n",
       "      <td>-0.032614</td>\n",
       "      <td>-0.117520</td>\n",
       "      <td>-0.994743</td>\n",
       "      <td>-0.973268</td>\n",
       "      <td>-0.967091</td>\n",
       "      <td>-0.995274</td>\n",
       "      <td>-0.974471</td>\n",
       "      <td>-0.968897</td>\n",
       "      <td>-0.938610</td>\n",
       "      <td>...</td>\n",
       "      <td>0.116695</td>\n",
       "      <td>-0.344418</td>\n",
       "      <td>-0.736124</td>\n",
       "      <td>-0.017067</td>\n",
       "      <td>0.154438</td>\n",
       "      <td>0.340134</td>\n",
       "      <td>0.296407</td>\n",
       "      <td>-0.698954</td>\n",
       "      <td>0.284114</td>\n",
       "      <td>-0.077108</td>\n",
       "    </tr>\n",
       "  </tbody>\n",
       "</table>\n",
       "<p>3 rows × 561 columns</p>\n",
       "</div>"
      ],
      "text/plain": [
       "                 ('tBodyAcc-mean()-X',)  ('tBodyAcc-mean()-Y',)  \\\n",
       "index individuo                                                   \n",
       "0     2                        0.286027               -0.013163   \n",
       "1     2                        0.275485               -0.026050   \n",
       "2     2                        0.270298               -0.032614   \n",
       "\n",
       "                 ('tBodyAcc-mean()-Z',)  ('tBodyAcc-std()-X',)  \\\n",
       "index individuo                                                  \n",
       "0     2                       -0.119083              -0.975415   \n",
       "1     2                       -0.118152              -0.993819   \n",
       "2     2                       -0.117520              -0.994743   \n",
       "\n",
       "                 ('tBodyAcc-std()-Y',)  ('tBodyAcc-std()-Z',)  \\\n",
       "index individuo                                                 \n",
       "0     2                      -0.967458              -0.944958   \n",
       "1     2                      -0.969926              -0.962748   \n",
       "2     2                      -0.973268              -0.967091   \n",
       "\n",
       "                 ('tBodyAcc-mad()-X',)  ('tBodyAcc-mad()-Y',)  \\\n",
       "index individuo                                                 \n",
       "0     2                      -0.986799              -0.968401   \n",
       "1     2                      -0.994403              -0.970735   \n",
       "2     2                      -0.995274              -0.974471   \n",
       "\n",
       "                 ('tBodyAcc-mad()-Z',)  ('tBodyAcc-max()-X',)  ...  \\\n",
       "index individuo                                                ...   \n",
       "0     2                      -0.945823              -0.894088  ...   \n",
       "1     2                      -0.963483              -0.939260  ...   \n",
       "2     2                      -0.968897              -0.938610  ...   \n",
       "\n",
       "                 ('fBodyBodyGyroJerkMag-meanFreq()',)  \\\n",
       "index individuo                                         \n",
       "0     2                                     -0.401189   \n",
       "1     2                                      0.062891   \n",
       "2     2                                      0.116695   \n",
       "\n",
       "                 ('fBodyBodyGyroJerkMag-skewness()',)  \\\n",
       "index individuo                                         \n",
       "0     2                                     -0.121845   \n",
       "1     2                                     -0.190422   \n",
       "2     2                                     -0.344418   \n",
       "\n",
       "                 ('fBodyBodyGyroJerkMag-kurtosis()',)  \\\n",
       "index individuo                                         \n",
       "0     2                                     -0.594944   \n",
       "1     2                                     -0.640736   \n",
       "2     2                                     -0.736124   \n",
       "\n",
       "                 ('angle(tBodyAccMean,gravity)',)  \\\n",
       "index individuo                                     \n",
       "0     2                                 -0.083495   \n",
       "1     2                                 -0.034956   \n",
       "2     2                                 -0.017067   \n",
       "\n",
       "                 ('angle(tBodyAccJerkMean),gravityMean)',)  \\\n",
       "index individuo                                              \n",
       "0     2                                           0.017500   \n",
       "1     2                                           0.202302   \n",
       "2     2                                           0.154438   \n",
       "\n",
       "                 ('angle(tBodyGyroMean,gravityMean)',)  \\\n",
       "index individuo                                          \n",
       "0     2                                      -0.434375   \n",
       "1     2                                       0.064103   \n",
       "2     2                                       0.340134   \n",
       "\n",
       "                 ('angle(tBodyGyroJerkMean,gravityMean)',)  \\\n",
       "index individuo                                              \n",
       "0     2                                           0.920593   \n",
       "1     2                                           0.145068   \n",
       "2     2                                           0.296407   \n",
       "\n",
       "                 ('angle(X,gravityMean)',)  ('angle(Y,gravityMean)',)  \\\n",
       "index individuo                                                         \n",
       "0     2                          -0.698091                   0.281343   \n",
       "1     2                          -0.702771                   0.280083   \n",
       "2     2                          -0.698954                   0.284114   \n",
       "\n",
       "                 ('angle(Z,gravityMean)',)  \n",
       "index individuo                             \n",
       "0     2                          -0.083898  \n",
       "1     2                          -0.079346  \n",
       "2     2                          -0.077108  \n",
       "\n",
       "[3 rows x 561 columns]"
      ]
     },
     "execution_count": 3,
     "metadata": {},
     "output_type": "execute_result"
    }
   ],
   "source": [
    "x_test.head(3)"
   ]
  },
  {
   "cell_type": "markdown",
   "metadata": {},
   "source": [
    "### 2. Divisão da base em Treino, Validação e Teste\n",
    "\n",
    "A base já se encontra dividida em Treino e Validação. O que vamos fazer então é extrair uma base de Validação da base de Treino.\n",
    "\n",
    "Extraia 25% da base de treino como base de validação."
   ]
  },
  {
   "cell_type": "code",
   "execution_count": 4,
   "metadata": {},
   "outputs": [],
   "source": [
    "#Capturando 25% da base de treinos\n",
    "x_validation = x_train.sample(frac=0.25, random_state=1)\n",
    "#Removendo dados capturados da base original\n",
    "x_train = x_train.drop(x_validation.index)\n",
    "\n",
    "y_validation = y_train.sample(frac=0.25, random_state=1)\n",
    "y_train = y_train.drop(y_validation.index)"
   ]
  },
  {
   "cell_type": "markdown",
   "metadata": {},
   "source": [
    "### 3. Melhores 3 variáveis\n",
    "\n",
    "Rode uma árvore com profundidade máxima igual a 4 para prever a atividade humana com todas as variáveis.\n",
    "Observe a importância das variáveis e considere as 3 variáveis com maior importância para os próximos passos.\n",
    "Dica: utilize o atributo ```clf.feature_importances_``` da árvore treinada."
   ]
  },
  {
   "cell_type": "code",
   "execution_count": 5,
   "metadata": {},
   "outputs": [],
   "source": [
    "# Treinando modelo\n",
    "clf = DecisionTreeClassifier(random_state=100, max_depth=4).fit(x_train, y_train)"
   ]
  },
  {
   "cell_type": "code",
   "execution_count": 6,
   "metadata": {},
   "outputs": [],
   "source": [
    "# Capturando os níveis de importância de cada coluna\n",
    "importances = clf.feature_importances_"
   ]
  },
  {
   "cell_type": "code",
   "execution_count": 7,
   "metadata": {},
   "outputs": [],
   "source": [
    "# Capturando os nomes das colunas\n",
    "cols = x_train.columns"
   ]
  },
  {
   "cell_type": "code",
   "execution_count": 8,
   "metadata": {},
   "outputs": [
    {
     "data": {
      "text/html": [
       "<div>\n",
       "<style scoped>\n",
       "    .dataframe tbody tr th:only-of-type {\n",
       "        vertical-align: middle;\n",
       "    }\n",
       "\n",
       "    .dataframe tbody tr th {\n",
       "        vertical-align: top;\n",
       "    }\n",
       "\n",
       "    .dataframe thead th {\n",
       "        text-align: right;\n",
       "    }\n",
       "</style>\n",
       "<table border=\"1\" class=\"dataframe\">\n",
       "  <thead>\n",
       "    <tr style=\"text-align: right;\">\n",
       "      <th></th>\n",
       "      <th>importancia_clf</th>\n",
       "    </tr>\n",
       "  </thead>\n",
       "  <tbody>\n",
       "    <tr>\n",
       "      <th>('tGravityAcc-mean()-X',)</th>\n",
       "      <td>0.287045</td>\n",
       "    </tr>\n",
       "    <tr>\n",
       "      <th>('tBodyAccJerk-energy()-X',)</th>\n",
       "      <td>0.253772</td>\n",
       "    </tr>\n",
       "    <tr>\n",
       "      <th>('angle(Y,gravityMean)',)</th>\n",
       "      <td>0.164121</td>\n",
       "    </tr>\n",
       "  </tbody>\n",
       "</table>\n",
       "</div>"
      ],
      "text/plain": [
       "                              importancia_clf\n",
       "('tGravityAcc-mean()-X',)            0.287045\n",
       "('tBodyAccJerk-energy()-X',)         0.253772\n",
       "('angle(Y,gravityMean)',)            0.164121"
      ]
     },
     "execution_count": 8,
     "metadata": {},
     "output_type": "execute_result"
    }
   ],
   "source": [
    "# Criando um dataframe com os nomes das colunas de x_train e os valores de importancia\n",
    "clf_importance = pd.DataFrame(importances, cols, columns = ['importancia_clf'])\n",
    "# Capturando os 3 maiores valores de importancia\n",
    "melhores = clf_importance.query('importancia_clf > 0').sort_values(by='importancia_clf', ascending = False)[0:3]\n",
    "melhores"
   ]
  },
  {
   "cell_type": "markdown",
   "metadata": {},
   "source": [
    "### 4. Construa uma árvore com as 3 melhores variáveis\n",
    "\n",
    "Utilizando as três variáveis encontradas acima, construa uma árvore de decisão. Encontre o melhor ```ccp_alpha``` utilizando a base de validação, conforme a estrutura que vimos em aula."
   ]
  },
  {
   "cell_type": "code",
   "execution_count": 9,
   "metadata": {},
   "outputs": [],
   "source": [
    "# Selecionando apenas as melhores colunas nos dataframes\n",
    "x_train = x_train[melhores.index]\n",
    "x_test = x_test[melhores.index]\n",
    "x_validation = x_validation[melhores.index]"
   ]
  },
  {
   "cell_type": "code",
   "execution_count": 32,
   "metadata": {},
   "outputs": [],
   "source": [
    "#Criando árvores com diferentes valores de poda\n",
    "caminho = DecisionTreeClassifier(random_state=2360873).cost_complexity_pruning_path(x_train, y_train)\n",
    "#Capturando valores ccp_alpha e impurities\n",
    "ccp_alphas, impurities = caminho.ccp_alphas, caminho.impurities"
   ]
  },
  {
   "cell_type": "code",
   "execution_count": 34,
   "metadata": {},
   "outputs": [],
   "source": [
    "clfs = []\n",
    "#Treinando árvores para cada valor de ccp_alpha obtido acima e acumulando em uma lista\n",
    "for ccp_alpha in ccp_alphas:\n",
    "    clf = DecisionTreeClassifier(random_state=2360873, ccp_alpha=ccp_alpha).fit(x_train, y_train)\n",
    "    clfs.append(clf)"
   ]
  },
  {
   "cell_type": "code",
   "execution_count": 41,
   "metadata": {},
   "outputs": [
    {
     "data": {
      "image/png": "[encoded data removed]",
      "text/plain": [
       "<Figure size 640x480 with 1 Axes>"
      ]
     },
     "metadata": {},
     "output_type": "display_data"
    }
   ],
   "source": [
    "#Obtendo acurácia de cada uma das árvores com base nos dados de treino e de validação.\n",
    "train_scores = [clf.score(x_train, y_train) for clf in clfs]\n",
    "valid_scores = [clf.score(x_validation, y_validation) for clf in clfs]\n",
    "\n",
    "#Plotando gráfico\n",
    "fig, ax = plt.subplots()\n",
    "ax.set_xlabel(\"alpha\")\n",
    "ax.set_ylabel(\"Acurácia\")\n",
    "ax.set_title(\"Acurácia x alpha do conjunto de dados de treino e validação\")\n",
    "ax.plot(ccp_alphas, train_scores, marker='o', label=\"validação\",\n",
    "        drawstyle=\"steps-post\")\n",
    "ax.plot(ccp_alphas, valid_scores, marker='o', label=\"treino\",\n",
    "        drawstyle=\"steps-post\")\n",
    "ax.legend()\n",
    "plt.show()"
   ]
  },
  {
   "cell_type": "code",
   "execution_count": 42,
   "metadata": {},
   "outputs": [
    {
     "name": "stdout",
     "output_type": "stream",
     "text": [
      "Acurácia da melhor árvore na base de validação: 86.62\n"
     ]
    },
    {
     "data": {
      "text/html": [
       "<style>#sk-container-id-1 {color: black;background-color: white;}#sk-container-id-1 pre{padding: 0;}#sk-container-id-1 div.sk-toggleable {background-color: white;}#sk-container-id-1 label.sk-toggleable__label {cursor: pointer;display: block;width: 100%;margin-bottom: 0;padding: 0.3em;box-sizing: border-box;text-align: center;}#sk-container-id-1 label.sk-toggleable__label-arrow:before {content: \"▸\";float: left;margin-right: 0.25em;color: #696969;}#sk-container-id-1 label.sk-toggleable__label-arrow:hover:before {color: black;}#sk-container-id-1 div.sk-estimator:hover label.sk-toggleable__label-arrow:before {color: black;}#sk-container-id-1 div.sk-toggleable__content {max-height: 0;max-width: 0;overflow: hidden;text-align: left;background-color: #f0f8ff;}#sk-container-id-1 div.sk-toggleable__content pre {margin: 0.2em;color: black;border-radius: 0.25em;background-color: #f0f8ff;}#sk-container-id-1 input.sk-toggleable__control:checked~div.sk-toggleable__content {max-height: 200px;max-width: 100%;overflow: auto;}#sk-container-id-1 input.sk-toggleable__control:checked~label.sk-toggleable__label-arrow:before {content: \"▾\";}#sk-container-id-1 div.sk-estimator input.sk-toggleable__control:checked~label.sk-toggleable__label {background-color: #d4ebff;}#sk-container-id-1 div.sk-label input.sk-toggleable__control:checked~label.sk-toggleable__label {background-color: #d4ebff;}#sk-container-id-1 input.sk-hidden--visually {border: 0;clip: rect(1px 1px 1px 1px);clip: rect(1px, 1px, 1px, 1px);height: 1px;margin: -1px;overflow: hidden;padding: 0;position: absolute;width: 1px;}#sk-container-id-1 div.sk-estimator {font-family: monospace;background-color: #f0f8ff;border: 1px dotted black;border-radius: 0.25em;box-sizing: border-box;margin-bottom: 0.5em;}#sk-container-id-1 div.sk-estimator:hover {background-color: #d4ebff;}#sk-container-id-1 div.sk-parallel-item::after {content: \"\";width: 100%;border-bottom: 1px solid gray;flex-grow: 1;}#sk-container-id-1 div.sk-label:hover label.sk-toggleable__label {background-color: #d4ebff;}#sk-container-id-1 div.sk-serial::before {content: \"\";position: absolute;border-left: 1px solid gray;box-sizing: border-box;top: 0;bottom: 0;left: 50%;z-index: 0;}#sk-container-id-1 div.sk-serial {display: flex;flex-direction: column;align-items: center;background-color: white;padding-right: 0.2em;padding-left: 0.2em;position: relative;}#sk-container-id-1 div.sk-item {position: relative;z-index: 1;}#sk-container-id-1 div.sk-parallel {display: flex;align-items: stretch;justify-content: center;background-color: white;position: relative;}#sk-container-id-1 div.sk-item::before, #sk-container-id-1 div.sk-parallel-item::before {content: \"\";position: absolute;border-left: 1px solid gray;box-sizing: border-box;top: 0;bottom: 0;left: 50%;z-index: -1;}#sk-container-id-1 div.sk-parallel-item {display: flex;flex-direction: column;z-index: 1;position: relative;background-color: white;}#sk-container-id-1 div.sk-parallel-item:first-child::after {align-self: flex-end;width: 50%;}#sk-container-id-1 div.sk-parallel-item:last-child::after {align-self: flex-start;width: 50%;}#sk-container-id-1 div.sk-parallel-item:only-child::after {width: 0;}#sk-container-id-1 div.sk-dashed-wrapped {border: 1px dashed gray;margin: 0 0.4em 0.5em 0.4em;box-sizing: border-box;padding-bottom: 0.4em;background-color: white;}#sk-container-id-1 div.sk-label label {font-family: monospace;font-weight: bold;display: inline-block;line-height: 1.2em;}#sk-container-id-1 div.sk-label-container {text-align: center;}#sk-container-id-1 div.sk-container {/* jupyter's `normalize.less` sets `[hidden] { display: none; }` but bootstrap.min.css set `[hidden] { display: none !important; }` so we also need the `!important` here to be able to override the default hidden behavior on the sphinx rendered scikit-learn.org. See: https://github.com/scikit-learn/scikit-learn/issues/21755 */display: inline-block !important;position: relative;}#sk-container-id-1 div.sk-text-repr-fallback {display: none;}</style><div id=\"sk-container-id-1\" class=\"sk-top-container\"><div class=\"sk-text-repr-fallback\"><pre>DecisionTreeClassifier(ccp_alpha=0.00035234959017858527, random_state=2360873)</pre><b>In a Jupyter environment, please rerun this cell to show the HTML representation or trust the notebook. <br />On GitHub, the HTML representation is unable to render, please try loading this page with nbviewer.org.</b></div><div class=\"sk-container\" hidden><div class=\"sk-item\"><div class=\"sk-estimator sk-toggleable\"><input class=\"sk-toggleable__control sk-hidden--visually\" id=\"sk-estimator-id-1\" type=\"checkbox\" checked><label for=\"sk-estimator-id-1\" class=\"sk-toggleable__label sk-toggleable__label-arrow\">DecisionTreeClassifier</label><div class=\"sk-toggleable__content\"><pre>DecisionTreeClassifier(ccp_alpha=0.00035234959017858527, random_state=2360873)</pre></div></div></div></div></div>"
      ],
      "text/plain": [
       "DecisionTreeClassifier(ccp_alpha=0.00035234959017858527, random_state=2360873)"
      ]
     },
     "execution_count": 42,
     "metadata": {},
     "output_type": "execute_result"
    }
   ],
   "source": [
    "#Obtendo a última maior acurácia da lista de valid_scores\n",
    "ind_melhor_arvore = len(valid_scores) - valid_scores[::-1].index(max(valid_scores)) - 1\n",
    "melhor_arvore = clfs[ind_melhor_arvore]\n",
    "\n",
    "print(f'Acurácia da melhor árvore na base de validação: {valid_scores[ind_melhor_arvore]*100:.2f}')\n",
    "\n",
    "melhor_arvore"
   ]
  },
  {
   "cell_type": "markdown",
   "metadata": {},
   "source": [
    "### 5. Avaliação do modelo\n",
    "\n",
    "Avalie a árvore encontrada no item anterior na base de testes."
   ]
  },
  {
   "cell_type": "code",
   "execution_count": 43,
   "metadata": {},
   "outputs": [
    {
     "name": "stdout",
     "output_type": "stream",
     "text": [
      "Acurácia: 68.77\n"
     ]
    }
   ],
   "source": [
    "#Obtendo acurácia da base de teste\n",
    "acuracia_teste = melhor_arvore.score(x_test, y_test)\n",
    "\n",
    "print(f'Acurácia: {acuracia_teste*100:.2f}')"
   ]
  },
  {
   "cell_type": "markdown",
   "metadata": {},
   "source": [
    "> Houve uma queda significativa de acurácia ao executar o modelo com os dados de teste. A acurácia não se \"sustentou\"."
   ]
  },
  {
   "cell_type": "code",
   "execution_count": 10,
   "metadata": {},
   "outputs": [],
   "source": [
    "# Exportando os nomes das melhores colunas para serem utilizados no próximo exercício\n",
    "melhores.to_csv('melhores.csv', index = True)"
   ]
  },
  {
   "cell_type": "code",
   "execution_count": null,
   "metadata": {},
   "outputs": [],
   "source": []
  }
 ],
 "metadata": {
  "kernelspec": {
   "display_name": "Python 3 (ipykernel)",
   "language": "python",
   "name": "python3"
  },
  "language_info": {
   "codemirror_mode": {
    "name": "ipython",
    "version": 3
   },
   "file_extension": ".py",
   "mimetype": "text/x-python",
   "name": "python",
   "nbconvert_exporter": "python",
   "pygments_lexer": "ipython3",
   "version": "3.11.3"
  }
 },
 "nbformat": 4,
 "nbformat_minor": 4
}
