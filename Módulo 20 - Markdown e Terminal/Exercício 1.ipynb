{
 "cells": [
  {
   "cell_type": "markdown",
   "id": "1a517ac0",
   "metadata": {},
   "source": [
    "### Método aplicado em equações do 2° grau\n",
    "\n",
    "A **fórmula de Bhaskara** é um cálculo matemático para determinar as raízes de uma [função de segundo grau](https://www.educamaisbrasil.com.br/enem/matematica/funcao-de-segundo-grau) por meio de seus coeficientes. Esse coeficiente que multiplica a variável desconhecida (x) das equações.\n",
    "  \n",
    "A termologia da fórmula é uma homenagem ao seu criador, o professor e astrólogo indiano Bhaskara Akaria. Ele é tido como um dos principais matemáticos do século XII. "
   ]
  },
  {
   "cell_type": "markdown",
   "id": "197b91a6",
   "metadata": {},
   "source": [
    "### Função do segundo grau\n",
    "\n",
    "O nível de uma função é dado pela maior potência da **variável independente**. No caso dessa equação, a maior potência será 2 ($x^2$), por isso é classificada como de segundo grau. Apresenta a seguinte fórmula:"
   ]
  },
  {
   "cell_type": "markdown",
   "id": "aa40cc43",
   "metadata": {},
   "source": [
    "$$ax^2 + bx + c = 0$$"
   ]
  },
  {
   "cell_type": "markdown",
   "id": "3121e534",
   "metadata": {},
   "source": [
    "Os coeficientes dessa função são números reais (a diferente de zero) que representam a, b, c. Isto é, o coeficiente angular é o número que multiplica o $x^2$, o coeficiente linear é o número que multiplica x e o coeficiente constante não multiplica nenhuma variável desconhecida. Observe nos exemplos:"
   ]
  },
  {
   "cell_type": "markdown",
   "id": "bf925393",
   "metadata": {},
   "source": [
    "$$x^2 + x - 9 (a = 1; b = 1; c = - 9)$$\n",
    "$$2x^2 - 4x + 5 (a = 2; b = - 4; c = 5)$$\n",
    "$$7x^2 + 3x (a = 7; b = 3; c = 0)$$\n",
    "$$8x^2 (a = 8; b = 0; c = 0)$$"
   ]
  },
  {
   "cell_type": "markdown",
   "id": "4e14d176",
   "metadata": {},
   "source": [
    "- Quando os coeficientes de **a**, **b** e **c** forem diferentes de zero a função é identificada como completa.\n",
    "- Quando o coeficiente de **a** for diferente de zero, porém os de b e c iguais, a função é identificada como incompleta. "
   ]
  },
  {
   "cell_type": "markdown",
   "id": "e1e2db59",
   "metadata": {},
   "source": [
    "### Fórmula de Bhaskara\n",
    "\n",
    "A solução para uma função de segundo grau depende das suas raízes (valores de x). Como já vimos, os coeficientes precisam ser números reais e o angular diferente de zero. Sendo assim, temos a seguinte fórmula de Bhaskara:"
   ]
  },
  {
   "cell_type": "markdown",
   "id": "81171990",
   "metadata": {},
   "source": [
    "$$x = \\frac{- b \\pm \\sqrt{x^2 - 4.a.c}}{2.a}$$"
   ]
  },
  {
   "cell_type": "markdown",
   "id": "4081193f",
   "metadata": {},
   "source": [
    "Para melhor compreensão o seu cálculo é dividido em duas partes: discriminante da equação e operações para determinar as raízes.\n",
    "\n",
    "#### Discriminante \n",
    "\n",
    "A figura dentro da raiz na fórmula de Bhaskara é nomeada de discriminante. Seu símbolo é a letra grega delta e apresenta a determinada fórmula:\n",
    "$$\\Delta = b^2 - 4.a.c$$"
   ]
  },
  {
   "cell_type": "markdown",
   "id": "0a1f4083",
   "metadata": {},
   "source": [
    "- Se o delta for maior que zero, a equação terá dois valores reais e distintos. \n",
    "- Se o delta for igual a zero, a equação terá somente um valor real ou dois resultados iguais. \n",
    "- Se o delta for menor que zero, a equação não possuirá valores reais. \n",
    "\n",
    "Portanto, é fundamental o valor de delta para definir as raízes de uma função do segundo grau. Substituindo o discriminante e os coeficientes, a fórmula de Bhaskara ficará dessa forma:"
   ]
  },
  {
   "cell_type": "markdown",
   "id": "af90c103",
   "metadata": {},
   "source": [
    "$$x = \\frac{-b \\pm \\sqrt\\Delta}{2.a}$$"
   ]
  },
  {
   "cell_type": "markdown",
   "id": "c76370ae",
   "metadata": {},
   "source": [
    "#### Cálculo das raízes\n",
    "\n",
    "Na fórmula aparece o sinal de “±”. Isso indica que deve ser realizado duas operações. Na primeira, quando o valor que segue a discriminante for positivo. Já na segunda, quando o valor que segue a discriminante for negativo, ou seja:"
   ]
  },
  {
   "cell_type": "markdown",
   "id": "d73d3e44",
   "metadata": {},
   "source": [
    "*Fórmula de Bhaskara positiva:* $$x^´ = \\frac{-b + \\sqrt{\\Delta}}{2.a}$$ \\\n",
    "*Fómula de Bhaskara negativa:* $$x^\" = \\frac{-b - \\sqrt{\\Delta}}{2.a}$$"
   ]
  },
  {
   "cell_type": "markdown",
   "id": "c6bcb062",
   "metadata": {},
   "source": [
    "### Aplicações\n",
    "\n",
    "Entenda como encontrar as raízes dos exemplos abaixo:"
   ]
  },
  {
   "cell_type": "markdown",
   "id": "c0d6a9c1",
   "metadata": {},
   "source": [
    "$$4x^2 + 2x - 6 = 0$$ $$(a = 4; b = 2; c = -6)$$"
   ]
  },
  {
   "cell_type": "markdown",
   "id": "a7052493",
   "metadata": {},
   "source": [
    "**Primeiro passo**: Identifique os coeficientes da equação e encontre o valor de delta:"
   ]
  },
  {
   "cell_type": "markdown",
   "id": "6c771814",
   "metadata": {},
   "source": [
    "$$\\Delta = b^2 - 4.a.c$$\n",
    "$$\\Delta = (2^2) - 4.4.(-6)$$\n",
    "$$\\Delta = 4 - 4.(-24)$$\n",
    "$$\\Delta = 4 + 96$$\n",
    "$$\\Delta = 100$$"
   ]
  },
  {
   "cell_type": "markdown",
   "id": "14c93722",
   "metadata": {},
   "source": [
    "Como delta é maior que zero, a equação apresentará duas raízes reais e diferentes. \n",
    "\n",
    "**Segundo passo**: Com o resultado de delta, substitua na fórmula de Bhaskara:"
   ]
  },
  {
   "cell_type": "markdown",
   "id": "be4a677e",
   "metadata": {},
   "source": [
    "$$x = \\frac{-b \\pm \\sqrt\\Delta}{2.a}$$ \\\n",
    "$$x = \\frac{-2 \\pm \\sqrt{100}}{2.4}$$ \\\n",
    "$$x = \\frac{-2 \\pm 10}{8}$$ \\\n",
    "$$x = \\frac{-1 \\pm 5}{4}$$"
   ]
  },
  {
   "cell_type": "markdown",
   "id": "492b586c",
   "metadata": {},
   "source": [
    "**Terceiro passo**: Determine o valor das raízes:"
   ]
  },
  {
   "cell_type": "markdown",
   "id": "8242064f",
   "metadata": {},
   "source": [
    "$x^´ = \\frac{-1 + 5}{4}$  $ x^´ = \\frac{4}{4}$  $ x^´ = 1$ \\\n",
    "\\\n",
    "$x^\" = \\frac{-1 - 5}{4}$  $ x^\" = \\frac{-6}{4}$  $ x^\" = \\frac{-3}{2}$"
   ]
  },
  {
   "cell_type": "markdown",
   "id": "3e1e94da",
   "metadata": {},
   "source": [
    "Logo, as raízes dessa equação são 1 e -3/2 \n",
    "\n",
    "Veja em outra aplicação:"
   ]
  },
  {
   "cell_type": "markdown",
   "id": "3a152594",
   "metadata": {},
   "source": [
    "$7x^2 + 3x + 4 = 0$ (a = 7; b = 3; c = 4)"
   ]
  },
  {
   "cell_type": "markdown",
   "id": "10257057",
   "metadata": {},
   "source": [
    "$$\\Delta = b^2 - 4.a.c$$\n",
    "$$\\Delta = (3^2) - 4.7.4$$\n",
    "$$\\Delta = 9 - 4.28$$\n",
    "$$\\Delta = 9 - 112$$\n",
    "$$\\Delta = -103$$"
   ]
  },
  {
   "cell_type": "markdown",
   "id": "22901e6a",
   "metadata": {},
   "source": [
    "Como delta é menor que zero, a equação não terá raízes reais, pois não existe raiz quadrada de número negativo."
   ]
  }
 ],
 "metadata": {
  "kernelspec": {
   "display_name": "Python 3 (ipykernel)",
   "language": "python",
   "name": "python3"
  },
  "language_info": {
   "codemirror_mode": {
    "name": "ipython",
    "version": 3
   },
   "file_extension": ".py",
   "mimetype": "text/x-python",
   "name": "python",
   "nbconvert_exporter": "python",
   "pygments_lexer": "ipython3",
   "version": "3.11.4"
  }
 },
 "nbformat": 4,
 "nbformat_minor": 5
}
