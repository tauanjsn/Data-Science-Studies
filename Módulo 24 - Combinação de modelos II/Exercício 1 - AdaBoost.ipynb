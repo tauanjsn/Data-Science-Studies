{
 "cells": [
  {
   "cell_type": "markdown",
   "id": "40dd7e3d",
   "metadata": {},
   "source": [
    "# 1 - Random Forest vs AdaBoost"
   ]
  },
  {
   "cell_type": "markdown",
   "id": "bbb9e17b",
   "metadata": {},
   "source": [
    "- A primeira diferença é que o RF cria uma floresta de árvores, distribuídos de diversas formas, e o AdaBoost possui florestas de Stumps, ou seja, árvores com 1 de profundidade e duas folhas.\n",
    "\n",
    "- As árvores no RF são independentes e no AdaBoost cada árvore influencia na próxima.\n",
    "\n",
    "- Enquanto o RF dá o mesmo 'peso' para cada uma das predições, já o AdaBoost avalia o quão preciso cada uma foi e determina quais respostas tem maior importância.\n",
    "\n",
    "- Cada stump/árvore do AdaBoost trabalhará com apenas uma coluna da base de dados, quanto o RF pode trabalhar com várias.\n",
    "\n",
    "- Cada dataset feito no AdaBoost deriva do anterior, por exemplo: O primeiro bootstrap deriva da base de dados original, o segundo deriva do primeiro e assim em diante. Já no RF, todos são derivados da base original."
   ]
  },
  {
   "cell_type": "markdown",
   "id": "6d047520",
   "metadata": {},
   "source": [
    "# 2 - Exemplo de AdaBoost"
   ]
  },
  {
   "cell_type": "code",
   "execution_count": 1,
   "id": "c0e363ec",
   "metadata": {},
   "outputs": [
    {
     "data": {
      "text/plain": [
       "0.9466666666666665"
      ]
     },
     "execution_count": 1,
     "metadata": {},
     "output_type": "execute_result"
    }
   ],
   "source": [
    "from sklearn.model_selection import cross_val_score\n",
    "from sklearn.datasets import load_iris\n",
    "from sklearn.ensemble import AdaBoostClassifier\n",
    "\n",
    "X, y = load_iris(return_X_y=True)\n",
    "clf = AdaBoostClassifier(n_estimators=100)\n",
    "scores = cross_val_score(clf, X, y, cv=5)\n",
    "scores.mean()"
   ]
  },
  {
   "cell_type": "markdown",
   "id": "ddab1c92",
   "metadata": {},
   "source": [
    "# 3 - Hyperparametros importantes"
   ]
  },
  {
   "cell_type": "markdown",
   "id": "9c61fce4",
   "metadata": {},
   "source": [
    "- estimator: Estimardor base que vai ser utilizado para construir o conjunto impussionado.\n",
    "- n_estimators: O máximo de estimadores que o modelo pode alcançar.\n",
    "- learning_rate: Peso aplicado a cada classificador em cada iteração.\n",
    "- max_depth: profundidadade do modelo.\n",
    "- min_samples_split: número mínimo de amostras para cada divisão."
   ]
  },
  {
   "cell_type": "code",
   "execution_count": null,
   "id": "852eaaae",
   "metadata": {},
   "outputs": [],
   "source": []
  }
 ],
 "metadata": {
  "kernelspec": {
   "display_name": "Python 3 (ipykernel)",
   "language": "python",
   "name": "python3"
  },
  "language_info": {
   "codemirror_mode": {
    "name": "ipython",
    "version": 3
   },
   "file_extension": ".py",
   "mimetype": "text/x-python",
   "name": "python",
   "nbconvert_exporter": "python",
   "pygments_lexer": "ipython3",
   "version": "3.11.4"
  }
 },
 "nbformat": 4,
 "nbformat_minor": 5
}
