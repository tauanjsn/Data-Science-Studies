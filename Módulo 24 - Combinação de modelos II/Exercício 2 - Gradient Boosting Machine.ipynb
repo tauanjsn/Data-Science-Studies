{
 "cells": [
  {
   "cell_type": "markdown",
   "id": "b6936157",
   "metadata": {},
   "source": [
    "# GBM vs AdaBoost\n",
    "\n",
    "- O GBM trabalha com uma floresta de árvores, já o AdaBoost trabalha com uma floresta de stumps;\n",
    "- O primeiro passo no GBM é a média do y (target) e no outro é um stump;\n",
    "- O GBM dá o mesmo peso para todas as respostas das árvores;\n",
    "- Com o GBM, todas as predições possuem um multiplicador em comum (ETA) que irá influenciar na resposta final;\n",
    "- Enquanto o AdaBoost busca predizer o valor de y, as árvores do GBM irão buscar prever da melhor forma os resíduos de y."
   ]
  },
  {
   "cell_type": "markdown",
   "id": "66ea32f9",
   "metadata": {},
   "source": [
    "# Exemplo GBM"
   ]
  },
  {
   "cell_type": "code",
   "execution_count": 2,
   "id": "710f0712",
   "metadata": {},
   "outputs": [
    {
     "data": {
      "text/plain": [
       "0.913"
      ]
     },
     "execution_count": 2,
     "metadata": {},
     "output_type": "execute_result"
    }
   ],
   "source": [
    "#Classificação\n",
    ">>> from sklearn.datasets import make_hastie_10_2\n",
    ">>> from sklearn.ensemble import GradientBoostingClassifier\n",
    "\n",
    ">>> X, y = make_hastie_10_2(random_state=0)\n",
    ">>> X_train, X_test = X[:2000], X[2000:]\n",
    ">>> y_train, y_test = y[:2000], y[2000:]\n",
    "\n",
    ">>> clf = GradientBoostingClassifier(n_estimators=100, learning_rate=1.0,\n",
    "...     max_depth=1, random_state=0).fit(X_train, y_train)\n",
    ">>> clf.score(X_test, y_test)"
   ]
  },
  {
   "cell_type": "code",
   "execution_count": 3,
   "id": "263ce699",
   "metadata": {},
   "outputs": [
    {
     "data": {
      "text/plain": [
       "5.009154859960321"
      ]
     },
     "execution_count": 3,
     "metadata": {},
     "output_type": "execute_result"
    }
   ],
   "source": [
    "#Regressão\n",
    ">>> import numpy as np\n",
    ">>> from sklearn.metrics import mean_squared_error\n",
    ">>> from sklearn.datasets import make_friedman1\n",
    ">>> from sklearn.ensemble import GradientBoostingRegressor\n",
    "\n",
    ">>> X, y = make_friedman1(n_samples=1200, random_state=0, noise=1.0)\n",
    ">>> X_train, X_test = X[:200], X[200:]\n",
    ">>> y_train, y_test = y[:200], y[200:]\n",
    ">>> est = GradientBoostingRegressor(\n",
    "...     n_estimators=100, learning_rate=0.1, max_depth=1, random_state=0,\n",
    "...     loss='squared_error'\n",
    "... ).fit(X_train, y_train)\n",
    ">>> mean_squared_error(y_test, est.predict(X_test))"
   ]
  },
  {
   "cell_type": "markdown",
   "id": "de6683ba",
   "metadata": {},
   "source": [
    "# 5 Hyperparâmetros do GBM\n",
    "\n",
    "1. max_depth: Profundidade máxima dos estimadores de regressão.\n",
    "2. random_state: Controla a semente aleatória dada a cada estimador da árvore em cada aumento de iteração.\n",
    "3. ccp_alpha: Parâmetro de complexidade usado para a poda mínima de custo-complexidade.\n",
    "4. verbose: Fonece detalhes do progresso dos cálculos.\n",
    "5. criterion: Mede a qualidade de uma divisão."
   ]
  },
  {
   "cell_type": "markdown",
   "id": "78374e82",
   "metadata": {},
   "source": [
    "# Diferença do Stochastic GBM para o GBM padrão.\n",
    "\n",
    "> O Stochastic GBM faz um subsample dos dados de treino de forma aleatória e sem reposição, ou seja, ao contrário do Bootstrap, ele foca em diminuir o número de linhas, assim melhora a robustez do Base Learner e a velocidade de treino. "
   ]
  },
  {
   "cell_type": "code",
   "execution_count": null,
   "id": "ed24dba9",
   "metadata": {},
   "outputs": [],
   "source": []
  }
 ],
 "metadata": {
  "kernelspec": {
   "display_name": "Python 3 (ipykernel)",
   "language": "python",
   "name": "python3"
  },
  "language_info": {
   "codemirror_mode": {
    "name": "ipython",
    "version": 3
   },
   "file_extension": ".py",
   "mimetype": "text/x-python",
   "name": "python",
   "nbconvert_exporter": "python",
   "pygments_lexer": "ipython3",
   "version": "3.11.4"
  }
 },
 "nbformat": 4,
 "nbformat_minor": 5
}
